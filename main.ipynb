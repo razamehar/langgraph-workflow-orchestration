{
 "cells": [
  {
   "cell_type": "code",
   "execution_count": 7,
   "id": "1a444e89",
   "metadata": {},
   "outputs": [],
   "source": [
    "import os\n",
    "from dotenv import load_dotenv\n",
    "load_dotenv()\n",
    "from langchain_openai import ChatOpenAI\n",
    "from langchain_openai import OpenAIEmbeddings\n",
    "from langchain_community.document_loaders import DirectoryLoader, PyPDFLoader\n",
    "from langchain_community.vectorstores import Chroma\n",
    "from langchain.text_splitter import RecursiveCharacterTextSplitter\n",
    "import operator\n",
    "from typing import List\n",
    "from pydantic import BaseModel , Field\n",
    "from langchain.prompts import PromptTemplate\n",
    "from typing import TypedDict, Annotated, Sequence\n",
    "from langchain_core.messages import BaseMessage\n",
    "from langchain_core.output_parsers import StrOutputParser\n",
    "from langchain_core.prompts import ChatPromptTemplate, PromptTemplate\n",
    "from langchain_core.runnables import RunnablePassthrough\n",
    "from langchain_core.messages import HumanMessage, AIMessage\n",
    "from langgraph.graph import StateGraph, END\n",
    "from langchain.output_parsers import PydanticOutputParser\n",
    "from IPython.display import Image, display\n",
    "from langchain_community.tools.tavily_search import TavilySearchResults"
   ]
  },
  {
   "cell_type": "code",
   "execution_count": 47,
   "id": "2cad6019",
   "metadata": {},
   "outputs": [],
   "source": [
    "load_dotenv()\n",
    "\n",
    "os.environ['OPENAI_API_KEY']=os.getenv('OPENAI_API_KEY')\n",
    "os.environ['TAVILY_API_KEY']=os.getenv('TAVILY_API_KEY')"
   ]
  },
  {
   "cell_type": "code",
   "execution_count": 9,
   "id": "4fbd1dce",
   "metadata": {},
   "outputs": [
    {
     "data": {
      "text/plain": [
       "AIMessage(content='Hello! How can I assist you today?', additional_kwargs={'refusal': None}, response_metadata={'token_usage': {'completion_tokens': 9, 'prompt_tokens': 8, 'total_tokens': 17, 'completion_tokens_details': {'accepted_prediction_tokens': 0, 'audio_tokens': 0, 'reasoning_tokens': 0, 'rejected_prediction_tokens': 0}, 'prompt_tokens_details': {'audio_tokens': 0, 'cached_tokens': 0}}, 'model_name': 'gpt-3.5-turbo-0125', 'system_fingerprint': None, 'id': 'chatcmpl-BgVsLKiDsbEICqvCaJ5tDpoiINXji', 'service_tier': 'default', 'finish_reason': 'stop', 'logprobs': None}, id='run--c6c04a38-49b3-4650-8c5d-1f701d2783f2-0', usage_metadata={'input_tokens': 8, 'output_tokens': 9, 'total_tokens': 17, 'input_token_details': {'audio': 0, 'cache_read': 0}, 'output_token_details': {'audio': 0, 'reasoning': 0}})"
      ]
     },
     "execution_count": 9,
     "metadata": {},
     "output_type": "execute_result"
    }
   ],
   "source": [
    "model = ChatOpenAI()\n",
    "model.invoke(\"Hi\")"
   ]
  },
  {
   "cell_type": "code",
   "execution_count": 10,
   "id": "d9b12e9e",
   "metadata": {},
   "outputs": [
    {
     "data": {
      "text/plain": [
       "1536"
      ]
     },
     "execution_count": 10,
     "metadata": {},
     "output_type": "execute_result"
    }
   ],
   "source": [
    "embeddings = OpenAIEmbeddings()\n",
    "len(embeddings.embed_query(\"hi\"))"
   ]
  },
  {
   "cell_type": "code",
   "execution_count": 12,
   "id": "7b8e2091",
   "metadata": {},
   "outputs": [
    {
     "data": {
      "text/plain": [
       "'Artificial Intelligence has revolutionized healthcare by enabling faster and more accurate \\ndiagnosis of diseases. Machine learning models analyze medical images like X-rays and \\nMRIs to detect anomalies that may be missed by the human eye. AI-driven tools also help \\npersonalize treatment plans by predicting patient responses to different therapies, \\nimproving outcomes and reducing costs in hospitals worldwide. \\nIn the field of natural language processing, AI has made significant strides in understanding \\nand generating human language. Technologies like GPT models can compose coherent \\ntext, translate languages instantly, and even engage in meaningful conversations. This \\nprogress has enhanced virtual assistants, automated customer support, and content \\ncreation, making communication more accessible across languages and cultures. \\nEthical considerations in AI development are becoming increasingly important as these \\ntechnologies impact society. Issues such as algorithmic bias can perpetuate unfair \\ntreatment based on race, gender, or socioeconomic status if not addressed properly. \\nResearchers are working on creating frameworks to ensure transparency and \\naccountability, aiming to build AI systems that respect privacy and promote social justice. \\nThe integration of AI with emerging hardware technologies, such as quantum computing, \\npromises to exponentially increase processing power. Quantum algorithms could solve \\ncomplex optimization problems and simulate molecular interactions far beyond the reach \\nof classical computers. This synergy is expected to accelerate breakthroughs in drug \\ndiscovery, cryptography, and climate modeling, opening new frontiers for scientific \\ninnovation.'"
      ]
     },
     "execution_count": 12,
     "metadata": {},
     "output_type": "execute_result"
    }
   ],
   "source": [
    "loader=DirectoryLoader(\"./data\",glob=\"*.pdf\",loader_cls=PyPDFLoader)\n",
    "docs=loader.load()\n",
    "docs[0].page_content"
   ]
  },
  {
   "cell_type": "code",
   "execution_count": 13,
   "id": "415c1a48",
   "metadata": {},
   "outputs": [],
   "source": [
    "text_splitter=RecursiveCharacterTextSplitter(\n",
    "    chunk_size=200,\n",
    "    chunk_overlap=50\n",
    ")"
   ]
  },
  {
   "cell_type": "code",
   "execution_count": 14,
   "id": "26465350",
   "metadata": {},
   "outputs": [
    {
     "data": {
      "text/plain": [
       "[Document(metadata={'producer': 'Microsoft® Word for Microsoft 365', 'creator': 'Microsoft® Word for Microsoft 365', 'creationdate': '2025-06-09T02:39:52+02:00', 'author': 'Raza Mehar', 'moddate': '2025-06-09T02:39:52+02:00', 'source': 'data\\\\ai.pdf', 'total_pages': 1, 'page': 0, 'page_label': '1'}, page_content='Artificial Intelligence has revolutionized healthcare by enabling faster and more accurate \\ndiagnosis of diseases. Machine learning models analyze medical images like X-rays and'),\n",
       " Document(metadata={'producer': 'Microsoft® Word for Microsoft 365', 'creator': 'Microsoft® Word for Microsoft 365', 'creationdate': '2025-06-09T02:39:52+02:00', 'author': 'Raza Mehar', 'moddate': '2025-06-09T02:39:52+02:00', 'source': 'data\\\\ai.pdf', 'total_pages': 1, 'page': 0, 'page_label': '1'}, page_content='MRIs to detect anomalies that may be missed by the human eye. AI-driven tools also help \\npersonalize treatment plans by predicting patient responses to different therapies,'),\n",
       " Document(metadata={'producer': 'Microsoft® Word for Microsoft 365', 'creator': 'Microsoft® Word for Microsoft 365', 'creationdate': '2025-06-09T02:39:52+02:00', 'author': 'Raza Mehar', 'moddate': '2025-06-09T02:39:52+02:00', 'source': 'data\\\\ai.pdf', 'total_pages': 1, 'page': 0, 'page_label': '1'}, page_content='improving outcomes and reducing costs in hospitals worldwide. \\nIn the field of natural language processing, AI has made significant strides in understanding'),\n",
       " Document(metadata={'producer': 'Microsoft® Word for Microsoft 365', 'creator': 'Microsoft® Word for Microsoft 365', 'creationdate': '2025-06-09T02:39:52+02:00', 'author': 'Raza Mehar', 'moddate': '2025-06-09T02:39:52+02:00', 'source': 'data\\\\ai.pdf', 'total_pages': 1, 'page': 0, 'page_label': '1'}, page_content='and generating human language. Technologies like GPT models can compose coherent \\ntext, translate languages instantly, and even engage in meaningful conversations. This'),\n",
       " Document(metadata={'producer': 'Microsoft® Word for Microsoft 365', 'creator': 'Microsoft® Word for Microsoft 365', 'creationdate': '2025-06-09T02:39:52+02:00', 'author': 'Raza Mehar', 'moddate': '2025-06-09T02:39:52+02:00', 'source': 'data\\\\ai.pdf', 'total_pages': 1, 'page': 0, 'page_label': '1'}, page_content='progress has enhanced virtual assistants, automated customer support, and content \\ncreation, making communication more accessible across languages and cultures.'),\n",
       " Document(metadata={'producer': 'Microsoft® Word for Microsoft 365', 'creator': 'Microsoft® Word for Microsoft 365', 'creationdate': '2025-06-09T02:39:52+02:00', 'author': 'Raza Mehar', 'moddate': '2025-06-09T02:39:52+02:00', 'source': 'data\\\\ai.pdf', 'total_pages': 1, 'page': 0, 'page_label': '1'}, page_content='Ethical considerations in AI development are becoming increasingly important as these \\ntechnologies impact society. Issues such as algorithmic bias can perpetuate unfair'),\n",
       " Document(metadata={'producer': 'Microsoft® Word for Microsoft 365', 'creator': 'Microsoft® Word for Microsoft 365', 'creationdate': '2025-06-09T02:39:52+02:00', 'author': 'Raza Mehar', 'moddate': '2025-06-09T02:39:52+02:00', 'source': 'data\\\\ai.pdf', 'total_pages': 1, 'page': 0, 'page_label': '1'}, page_content='treatment based on race, gender, or socioeconomic status if not addressed properly. \\nResearchers are working on creating frameworks to ensure transparency and'),\n",
       " Document(metadata={'producer': 'Microsoft® Word for Microsoft 365', 'creator': 'Microsoft® Word for Microsoft 365', 'creationdate': '2025-06-09T02:39:52+02:00', 'author': 'Raza Mehar', 'moddate': '2025-06-09T02:39:52+02:00', 'source': 'data\\\\ai.pdf', 'total_pages': 1, 'page': 0, 'page_label': '1'}, page_content='accountability, aiming to build AI systems that respect privacy and promote social justice. \\nThe integration of AI with emerging hardware technologies, such as quantum computing,'),\n",
       " Document(metadata={'producer': 'Microsoft® Word for Microsoft 365', 'creator': 'Microsoft® Word for Microsoft 365', 'creationdate': '2025-06-09T02:39:52+02:00', 'author': 'Raza Mehar', 'moddate': '2025-06-09T02:39:52+02:00', 'source': 'data\\\\ai.pdf', 'total_pages': 1, 'page': 0, 'page_label': '1'}, page_content='promises to exponentially increase processing power. Quantum algorithms could solve \\ncomplex optimization problems and simulate molecular interactions far beyond the reach'),\n",
       " Document(metadata={'producer': 'Microsoft® Word for Microsoft 365', 'creator': 'Microsoft® Word for Microsoft 365', 'creationdate': '2025-06-09T02:39:52+02:00', 'author': 'Raza Mehar', 'moddate': '2025-06-09T02:39:52+02:00', 'source': 'data\\\\ai.pdf', 'total_pages': 1, 'page': 0, 'page_label': '1'}, page_content='of classical computers. This synergy is expected to accelerate breakthroughs in drug \\ndiscovery, cryptography, and climate modeling, opening new frontiers for scientific \\ninnovation.')]"
      ]
     },
     "execution_count": 14,
     "metadata": {},
     "output_type": "execute_result"
    }
   ],
   "source": [
    "new_docs=text_splitter.split_documents(documents=docs)\n",
    "new_docs"
   ]
  },
  {
   "cell_type": "code",
   "execution_count": 16,
   "id": "5ffe2c14",
   "metadata": {},
   "outputs": [
    {
     "data": {
      "text/plain": [
       "['Artificial Intelligence has revolutionized healthcare by enabling faster and more accurate \\ndiagnosis of diseases. Machine learning models analyze medical images like X-rays and',\n",
       " 'MRIs to detect anomalies that may be missed by the human eye. AI-driven tools also help \\npersonalize treatment plans by predicting patient responses to different therapies,',\n",
       " 'improving outcomes and reducing costs in hospitals worldwide. \\nIn the field of natural language processing, AI has made significant strides in understanding',\n",
       " 'and generating human language. Technologies like GPT models can compose coherent \\ntext, translate languages instantly, and even engage in meaningful conversations. This',\n",
       " 'progress has enhanced virtual assistants, automated customer support, and content \\ncreation, making communication more accessible across languages and cultures.',\n",
       " 'Ethical considerations in AI development are becoming increasingly important as these \\ntechnologies impact society. Issues such as algorithmic bias can perpetuate unfair',\n",
       " 'treatment based on race, gender, or socioeconomic status if not addressed properly. \\nResearchers are working on creating frameworks to ensure transparency and',\n",
       " 'accountability, aiming to build AI systems that respect privacy and promote social justice. \\nThe integration of AI with emerging hardware technologies, such as quantum computing,',\n",
       " 'promises to exponentially increase processing power. Quantum algorithms could solve \\ncomplex optimization problems and simulate molecular interactions far beyond the reach',\n",
       " 'of classical computers. This synergy is expected to accelerate breakthroughs in drug \\ndiscovery, cryptography, and climate modeling, opening new frontiers for scientific \\ninnovation.']"
      ]
     },
     "execution_count": 16,
     "metadata": {},
     "output_type": "execute_result"
    }
   ],
   "source": [
    "doc_string=[doc.page_content for doc in new_docs]\n",
    "doc_string"
   ]
  },
  {
   "cell_type": "code",
   "execution_count": 17,
   "id": "390959c1",
   "metadata": {},
   "outputs": [
    {
     "data": {
      "text/plain": [
       "10"
      ]
     },
     "execution_count": 17,
     "metadata": {},
     "output_type": "execute_result"
    }
   ],
   "source": [
    "len(doc_string)"
   ]
  },
  {
   "cell_type": "code",
   "execution_count": 18,
   "id": "b41cbd5b",
   "metadata": {},
   "outputs": [],
   "source": [
    "db=Chroma.from_documents(new_docs,embeddings)\n",
    "retriever=db.as_retriever(search_kwargs={\"k\": 3})"
   ]
  },
  {
   "cell_type": "code",
   "execution_count": 19,
   "id": "e9b6a938",
   "metadata": {},
   "outputs": [],
   "source": [
    "class TopicSelectionParser(BaseModel):\n",
    "    Topic:str=Field(description=\"selected topic\")\n",
    "    Reasoning:str=Field(description='Reasoning behind topic selection')"
   ]
  },
  {
   "cell_type": "code",
   "execution_count": null,
   "id": "35164094",
   "metadata": {},
   "outputs": [
    {
     "data": {
      "text/plain": [
       "'The output should be formatted as a JSON instance that conforms to the JSON schema below.\\n\\nAs an example, for the schema {\"properties\": {\"foo\": {\"title\": \"Foo\", \"description\": \"a list of strings\", \"type\": \"array\", \"items\": {\"type\": \"string\"}}}, \"required\": [\"foo\"]}\\nthe object {\"foo\": [\"bar\", \"baz\"]} is a well-formatted instance of the schema. The object {\"properties\": {\"foo\": [\"bar\", \"baz\"]}} is not well-formatted.\\n\\nHere is the output schema:\\n```\\n{\"properties\": {\"Topic\": {\"description\": \"selected topic\", \"title\": \"Topic\", \"type\": \"string\"}, \"Reasoning\": {\"description\": \"Reasoning behind topic selection\", \"title\": \"Reasoning\", \"type\": \"string\"}}, \"required\": [\"Topic\", \"Reasoning\"]}\\n```'"
      ]
     },
     "execution_count": 20,
     "metadata": {},
     "output_type": "execute_result"
    }
   ],
   "source": [
    "parser=PydanticOutputParser(pydantic_object=TopicSelectionParser)\n",
    "parser.get_format_instructions()"
   ]
  },
  {
   "cell_type": "code",
   "execution_count": 21,
   "id": "334bf14d",
   "metadata": {},
   "outputs": [],
   "source": [
    "def format_docs(docs):\n",
    "    return \"\\n\\n\".join(doc.page_content for doc in docs)"
   ]
  },
  {
   "cell_type": "code",
   "execution_count": 22,
   "id": "e0c9a934",
   "metadata": {},
   "outputs": [],
   "source": [
    "class AgentState(TypedDict):\n",
    "    messages: Annotated[Sequence[BaseMessage], operator.add]"
   ]
  },
  {
   "cell_type": "code",
   "execution_count": 62,
   "id": "3838fc5a",
   "metadata": {},
   "outputs": [],
   "source": [
    "def supervirsor_node(state: AgentState):\n",
    "    print(\"Calling Supervisor node...\")\n",
    "    question = state[\"messages\"][-1]\n",
    "\n",
    "    template = \"\"\"\n",
    "    Your task is to classify the given user query into one of the three categories: [AI, Web, LLM]. \n",
    "    Only respond with the category name and nothing else.\n",
    "\n",
    "    User query: {question}\n",
    "    {format_instructions}\n",
    "    \"\"\"\n",
    "\n",
    "    prompt = PromptTemplate(\n",
    "        template=template,\n",
    "        input_variable=[\"question\"],\n",
    "        partial_variables={\"format_instructions\": parser.get_format_instructions()}\n",
    "    )\n",
    "\n",
    "    chain = prompt | model | parser\n",
    "    response = chain.invoke({\"question\": question})\n",
    "\n",
    "    return {\"messages\": [response.Topic]}"
   ]
  },
  {
   "cell_type": "code",
   "execution_count": 63,
   "id": "69fff322",
   "metadata": {},
   "outputs": [],
   "source": [
    "def rag_node(state: AgentState):\n",
    "    print(\"Calling RAG node...\")\n",
    "    question = state[\"messages\"][0]\n",
    "\n",
    "    prompt = PromptTemplate(\n",
    "        template=\"\"\"You are an assistant for question-answering tasks. Use the following pieces of retrieved context to answer the question. If you don't know the answer, just say that you don't know. Use three sentences maximum and keep the answer concise.\\nQuestion: {question} \\nContext: {context} \\nAnswer:\"\"\",\n",
    "        input_variables=['context', 'question']\n",
    "    )\n",
    "\n",
    "    rag_chain = (\n",
    "        {\"context\": retriever | format_docs, \"question\": RunnablePassthrough()}\n",
    "        | prompt\n",
    "        | model\n",
    "        | StrOutputParser()\n",
    "    )\n",
    "\n",
    "    result = rag_chain.invoke(question)\n",
    "    return {\"messages\": [result]}"
   ]
  },
  {
   "cell_type": "code",
   "execution_count": 64,
   "id": "46f4527f",
   "metadata": {},
   "outputs": [],
   "source": [
    "def web_crawl_node(state: AgentState):\n",
    "    print(\"Calling Web Crawl Node...\")\n",
    "    tavily_key = os.getenv(\"TAVILY_API_KEY\") \n",
    "\n",
    "\n",
    "    tool = TavilySearchResults(tavily_api_key=tavily_key)\n",
    "    question = state[\"messages\"][0]\n",
    "    response = tool.invoke({\"query\": question})\n",
    "\n",
    "    return {\"messages\": [response[0].get(\"content\")]}\n"
   ]
  },
  {
   "cell_type": "code",
   "execution_count": 65,
   "id": "df5369e4",
   "metadata": {},
   "outputs": [],
   "source": [
    "def llm_node(state: AgentState):\n",
    "    print(\"Calling LLM node...\")\n",
    "    question = state[\"messages\"][0]\n",
    "\n",
    "    complete_query = \"Answer the follow question with your knowledge of the real world. Following is the user question: \" + question\n",
    "    response = model.invoke(complete_query)\n",
    "\n",
    "    return {\"messages\": [response.content]}"
   ]
  },
  {
   "cell_type": "code",
   "execution_count": 66,
   "id": "d565e363",
   "metadata": {},
   "outputs": [],
   "source": [
    "def router(state: AgentState):\n",
    "    print(\"Calling the Router...\")\n",
    "    last_message = state[\"messages\"][-1]\n",
    "    print(\"last_message:\", last_message)\n",
    "    message_lower = last_message.lower()\n",
    "\n",
    "    ai_keywords = [\n",
    "        \"ai\", \"artificial intelligence\", \"machine learning\", \"ml\", \"deep learning\",\n",
    "        \"neural network\", \"nlp\", \"transformer\", \"bert\", \"gpt\", \"chatbot\", \"vision model\",\n",
    "        \"reinforcement learning\", \"supervised learning\", \"unsupervised learning\"\n",
    "    ]\n",
    "\n",
    "    web_keywords = [\n",
    "        \"web\", \"internet\", \"website\", \"browser\", \"http\", \"https\", \"online\", \"web crawling\",\n",
    "        \"search engine\", \"web scraping\", \"network\", \"url\", \"link\", \"domain\"\n",
    "    ]\n",
    "\n",
    "    if any(keyword in message_lower for keyword in ai_keywords):\n",
    "        return \"RAG\"\n",
    "    elif any(keyword in message_lower for keyword in web_keywords):\n",
    "        return \"TAVILY\"\n",
    "    else:\n",
    "        return \"LLM\"\n"
   ]
  },
  {
   "cell_type": "code",
   "execution_count": 67,
   "id": "2af42e55",
   "metadata": {},
   "outputs": [
    {
     "data": {
      "text/plain": [
       "<langgraph.graph.state.StateGraph at 0x2a59948a520>"
      ]
     },
     "execution_count": 67,
     "metadata": {},
     "output_type": "execute_result"
    }
   ],
   "source": [
    "workflow = StateGraph(AgentState)\n",
    "\n",
    "workflow.add_node(\"Supervisor\", supervirsor_node)\n",
    "workflow.add_node(\"RAG\", rag_node)\n",
    "workflow.add_node(\"TAVILY\", web_crawl_node)\n",
    "workflow.add_node(\"LLM\", llm_node)\n",
    "\n",
    "\n",
    "workflow.set_entry_point(\"Supervisor\")\n",
    "\n",
    "workflow.add_conditional_edges(\n",
    "    \"Supervisor\",\n",
    "    router,\n",
    "    {\n",
    "        \"RAG\": \"RAG\",\n",
    "        \"TAVILY\": \"TAVILY\",\n",
    "        \"LLM\": \"LLM\",\n",
    "    }\n",
    ")\n",
    "\n",
    "workflow.add_edge(\"RAG\", END)\n",
    "workflow.add_edge(\"TAVILY\", END)\n",
    "workflow.add_edge(\"LLM\", END)"
   ]
  },
  {
   "cell_type": "code",
   "execution_count": 68,
   "id": "574e98a7",
   "metadata": {},
   "outputs": [],
   "source": [
    "app=workflow.compile()"
   ]
  },
  {
   "cell_type": "code",
   "execution_count": 69,
   "id": "895cb808",
   "metadata": {},
   "outputs": [
    {
     "data": {
      "image/png": "[encoded data removed]",
      "text/plain": [
       "<IPython.core.display.Image object>"
      ]
     },
     "metadata": {},
     "output_type": "display_data"
    }
   ],
   "source": [
    "display(Image(app.get_graph().draw_mermaid_png()))"
   ]
  },
  {
   "cell_type": "code",
   "execution_count": 42,
   "id": "5a5a6fc0",
   "metadata": {},
   "outputs": [
    {
     "name": "stdout",
     "output_type": "stream",
     "text": [
      "Calling Supervisor node...\n",
      "Calling the Router...\n",
      "last_message: Not Related\n",
      "Calling LLM node...\n"
     ]
    },
    {
     "data": {
      "text/plain": [
       "{'messages': ['hi', 'Not Related', 'Hello! How can I assist you today?']}"
      ]
     },
     "execution_count": 42,
     "metadata": {},
     "output_type": "execute_result"
    }
   ],
   "source": [
    "state={\"messages\":[\"hi\"]}\n",
    "app.invoke(state)"
   ]
  },
  {
   "cell_type": "code",
   "execution_count": 43,
   "id": "2818f3e5",
   "metadata": {},
   "outputs": [
    {
     "name": "stdout",
     "output_type": "stream",
     "text": [
      "Calling Supervisor node...\n",
      "Calling the Router...\n",
      "last_message: AI\n",
      "Calling RAG node...\n"
     ]
    },
    {
     "data": {
      "text/plain": [
       "{'messages': ['AI and healthcare',\n",
       "  'AI',\n",
       "  'AI has made significant advancements in healthcare by improving diagnosis, outcomes, and costs through machine learning models. These AI systems aim to promote social justice and respect privacy in their operations. The integration with emerging hardware technologies, like quantum computing, further enhances their capabilities in revolutionizing the healthcare industry.']}"
      ]
     },
     "execution_count": 43,
     "metadata": {},
     "output_type": "execute_result"
    }
   ],
   "source": [
    "state={\"messages\":[\"AI and healthcare\"]}\n",
    "app.invoke(state)"
   ]
  },
  {
   "cell_type": "code",
   "execution_count": 70,
   "id": "06ffe88e",
   "metadata": {},
   "outputs": [
    {
     "name": "stdout",
     "output_type": "stream",
     "text": [
      "Calling Supervisor node...\n",
      "Calling the Router...\n",
      "last_message: Web\n",
      "Calling Web Crawl Node...\n"
     ]
    },
    {
     "data": {
      "text/plain": [
       "{'messages': ['On internet search SRK',\n",
       "  'Web',\n",
       "  \"# SRK answers the Internet's Most Searched Questions | Shah Rukh Khan\\n\\nZee Series\\n29549 likes\\n931787 views\\n1 Aug 2018\\nIn this segment produced by Zee Series  and inspired by a Wired Magazine idea, Shah Rukh Khan responds to the Internet's Most Searched Questions about himself. This segment first aired on CNN News18 on July 14, 2017.\\n1085 comments\"]}"
      ]
     },
     "execution_count": 70,
     "metadata": {},
     "output_type": "execute_result"
    }
   ],
   "source": [
    "state={\"messages\":[\"On internet search SRK\"]}\n",
    "app.invoke(state)"
   ]
  }
 ],
 "metadata": {
  "kernelspec": {
   "display_name": "venv",
   "language": "python",
   "name": "python3"
  },
  "language_info": {
   "codemirror_mode": {
    "name": "ipython",
    "version": 3
   },
   "file_extension": ".py",
   "mimetype": "text/x-python",
   "name": "python",
   "nbconvert_exporter": "python",
   "pygments_lexer": "ipython3",
   "version": "3.9.13"
  }
 },
 "nbformat": 4,
 "nbformat_minor": 5
}
