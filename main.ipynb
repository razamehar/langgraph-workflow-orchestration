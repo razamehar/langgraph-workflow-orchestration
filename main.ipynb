{
 "cells": [
  {
   "cell_type": "code",
   "execution_count": 312,
   "id": "1a444e89",
   "metadata": {},
   "outputs": [],
   "source": [
    "import os\n",
    "from dotenv import load_dotenv\n",
    "load_dotenv()\n",
    "from langchain_openai import ChatOpenAI\n",
    "from langchain_openai import OpenAIEmbeddings\n",
    "from langchain_community.document_loaders import DirectoryLoader, PyPDFLoader\n",
    "from langchain_community.vectorstores import Chroma\n",
    "from langchain.text_splitter import RecursiveCharacterTextSplitter\n",
    "import operator\n",
    "from typing import List\n",
    "from pydantic import BaseModel , Field\n",
    "from langchain.prompts import PromptTemplate\n",
    "from typing import TypedDict, Annotated, Sequence\n",
    "from langchain_core.messages import BaseMessage\n",
    "from langchain_core.output_parsers import StrOutputParser\n",
    "from langchain_core.prompts import ChatPromptTemplate, PromptTemplate\n",
    "from langchain_core.runnables import RunnablePassthrough\n",
    "from langchain_core.messages import HumanMessage, AIMessage\n",
    "from langgraph.graph import StateGraph, END\n",
    "from langchain.output_parsers import PydanticOutputParser\n",
    "from IPython.display import Image, display\n",
    "from langchain_community.tools.tavily_search import TavilySearchResults\n",
    "import string\n"
   ]
  },
  {
   "cell_type": "code",
   "execution_count": 94,
   "id": "2cad6019",
   "metadata": {},
   "outputs": [],
   "source": [
    "load_dotenv()\n",
    "\n",
    "os.environ['OPENAI_API_KEY']=os.getenv('OPENAI_API_KEY')\n",
    "os.environ['TAVILY_API_KEY']=os.getenv('TAVILY_API_KEY')"
   ]
  },
  {
   "cell_type": "code",
   "execution_count": 95,
   "id": "4fbd1dce",
   "metadata": {},
   "outputs": [
    {
     "data": {
      "text/plain": [
       "AIMessage(content='Hello! How can I assist you today?', additional_kwargs={'refusal': None}, response_metadata={'token_usage': {'completion_tokens': 9, 'prompt_tokens': 8, 'total_tokens': 17, 'completion_tokens_details': {'accepted_prediction_tokens': 0, 'audio_tokens': 0, 'reasoning_tokens': 0, 'rejected_prediction_tokens': 0}, 'prompt_tokens_details': {'audio_tokens': 0, 'cached_tokens': 0}}, 'model_name': 'gpt-3.5-turbo-0125', 'system_fingerprint': None, 'id': 'chatcmpl-Bgw57v9mMwVWWfeOR8CMSTWtD2bqe', 'service_tier': 'default', 'finish_reason': 'stop', 'logprobs': None}, id='run--86b07707-fb99-404e-957d-856de16ab8d6-0', usage_metadata={'input_tokens': 8, 'output_tokens': 9, 'total_tokens': 17, 'input_token_details': {'audio': 0, 'cache_read': 0}, 'output_token_details': {'audio': 0, 'reasoning': 0}})"
      ]
     },
     "execution_count": 95,
     "metadata": {},
     "output_type": "execute_result"
    }
   ],
   "source": [
    "model = ChatOpenAI()\n",
    "model.invoke(\"Hi\")"
   ]
  },
  {
   "cell_type": "code",
   "execution_count": 96,
   "id": "d9b12e9e",
   "metadata": {},
   "outputs": [
    {
     "data": {
      "text/plain": [
       "1536"
      ]
     },
     "execution_count": 96,
     "metadata": {},
     "output_type": "execute_result"
    }
   ],
   "source": [
    "embeddings = OpenAIEmbeddings()\n",
    "len(embeddings.embed_query(\"hi\"))"
   ]
  },
  {
   "cell_type": "code",
   "execution_count": 97,
   "id": "7b8e2091",
   "metadata": {},
   "outputs": [
    {
     "data": {
      "text/plain": [
       "'Artificial Intelligence has revolutionized healthcare by enabling faster and more accurate \\ndiagnosis of diseases. Machine learning models analyze medical images like X-rays and \\nMRIs to detect anomalies that may be missed by the human eye. AI-driven tools also help \\npersonalize treatment plans by predicting patient responses to different therapies, \\nimproving outcomes and reducing costs in hospitals worldwide. \\nIn the field of natural language processing, AI has made significant strides in understanding \\nand generating human language. Technologies like GPT models can compose coherent \\ntext, translate languages instantly, and even engage in meaningful conversations. This \\nprogress has enhanced virtual assistants, automated customer support, and content \\ncreation, making communication more accessible across languages and cultures. \\nEthical considerations in AI development are becoming increasingly important as these \\ntechnologies impact society. Issues such as algorithmic bias can perpetuate unfair \\ntreatment based on race, gender, or socioeconomic status if not addressed properly. \\nResearchers are working on creating frameworks to ensure transparency and \\naccountability, aiming to build AI systems that respect privacy and promote social justice. \\nThe integration of AI with emerging hardware technologies, such as quantum computing, \\npromises to exponentially increase processing power. Quantum algorithms could solve \\ncomplex optimization problems and simulate molecular interactions far beyond the reach \\nof classical computers. This synergy is expected to accelerate breakthroughs in drug \\ndiscovery, cryptography, and climate modeling, opening new frontiers for scientific \\ninnovation.'"
      ]
     },
     "execution_count": 97,
     "metadata": {},
     "output_type": "execute_result"
    }
   ],
   "source": [
    "loader=DirectoryLoader(\"./data\",glob=\"*.pdf\",loader_cls=PyPDFLoader)\n",
    "docs=loader.load()\n",
    "docs[0].page_content"
   ]
  },
  {
   "cell_type": "code",
   "execution_count": 98,
   "id": "415c1a48",
   "metadata": {},
   "outputs": [],
   "source": [
    "text_splitter=RecursiveCharacterTextSplitter(\n",
    "    chunk_size=200,\n",
    "    chunk_overlap=50\n",
    ")"
   ]
  },
  {
   "cell_type": "code",
   "execution_count": 99,
   "id": "26465350",
   "metadata": {},
   "outputs": [
    {
     "data": {
      "text/plain": [
       "[Document(metadata={'producer': 'Microsoft® Word for Microsoft 365', 'creator': 'Microsoft® Word for Microsoft 365', 'creationdate': '2025-06-09T02:39:52+02:00', 'author': 'Raza Mehar', 'moddate': '2025-06-09T02:39:52+02:00', 'source': 'data\\\\ai.pdf', 'total_pages': 1, 'page': 0, 'page_label': '1'}, page_content='Artificial Intelligence has revolutionized healthcare by enabling faster and more accurate \\ndiagnosis of diseases. Machine learning models analyze medical images like X-rays and'),\n",
       " Document(metadata={'producer': 'Microsoft® Word for Microsoft 365', 'creator': 'Microsoft® Word for Microsoft 365', 'creationdate': '2025-06-09T02:39:52+02:00', 'author': 'Raza Mehar', 'moddate': '2025-06-09T02:39:52+02:00', 'source': 'data\\\\ai.pdf', 'total_pages': 1, 'page': 0, 'page_label': '1'}, page_content='MRIs to detect anomalies that may be missed by the human eye. AI-driven tools also help \\npersonalize treatment plans by predicting patient responses to different therapies,'),\n",
       " Document(metadata={'producer': 'Microsoft® Word for Microsoft 365', 'creator': 'Microsoft® Word for Microsoft 365', 'creationdate': '2025-06-09T02:39:52+02:00', 'author': 'Raza Mehar', 'moddate': '2025-06-09T02:39:52+02:00', 'source': 'data\\\\ai.pdf', 'total_pages': 1, 'page': 0, 'page_label': '1'}, page_content='improving outcomes and reducing costs in hospitals worldwide. \\nIn the field of natural language processing, AI has made significant strides in understanding'),\n",
       " Document(metadata={'producer': 'Microsoft® Word for Microsoft 365', 'creator': 'Microsoft® Word for Microsoft 365', 'creationdate': '2025-06-09T02:39:52+02:00', 'author': 'Raza Mehar', 'moddate': '2025-06-09T02:39:52+02:00', 'source': 'data\\\\ai.pdf', 'total_pages': 1, 'page': 0, 'page_label': '1'}, page_content='and generating human language. Technologies like GPT models can compose coherent \\ntext, translate languages instantly, and even engage in meaningful conversations. This'),\n",
       " Document(metadata={'producer': 'Microsoft® Word for Microsoft 365', 'creator': 'Microsoft® Word for Microsoft 365', 'creationdate': '2025-06-09T02:39:52+02:00', 'author': 'Raza Mehar', 'moddate': '2025-06-09T02:39:52+02:00', 'source': 'data\\\\ai.pdf', 'total_pages': 1, 'page': 0, 'page_label': '1'}, page_content='progress has enhanced virtual assistants, automated customer support, and content \\ncreation, making communication more accessible across languages and cultures.'),\n",
       " Document(metadata={'producer': 'Microsoft® Word for Microsoft 365', 'creator': 'Microsoft® Word for Microsoft 365', 'creationdate': '2025-06-09T02:39:52+02:00', 'author': 'Raza Mehar', 'moddate': '2025-06-09T02:39:52+02:00', 'source': 'data\\\\ai.pdf', 'total_pages': 1, 'page': 0, 'page_label': '1'}, page_content='Ethical considerations in AI development are becoming increasingly important as these \\ntechnologies impact society. Issues such as algorithmic bias can perpetuate unfair'),\n",
       " Document(metadata={'producer': 'Microsoft® Word for Microsoft 365', 'creator': 'Microsoft® Word for Microsoft 365', 'creationdate': '2025-06-09T02:39:52+02:00', 'author': 'Raza Mehar', 'moddate': '2025-06-09T02:39:52+02:00', 'source': 'data\\\\ai.pdf', 'total_pages': 1, 'page': 0, 'page_label': '1'}, page_content='treatment based on race, gender, or socioeconomic status if not addressed properly. \\nResearchers are working on creating frameworks to ensure transparency and'),\n",
       " Document(metadata={'producer': 'Microsoft® Word for Microsoft 365', 'creator': 'Microsoft® Word for Microsoft 365', 'creationdate': '2025-06-09T02:39:52+02:00', 'author': 'Raza Mehar', 'moddate': '2025-06-09T02:39:52+02:00', 'source': 'data\\\\ai.pdf', 'total_pages': 1, 'page': 0, 'page_label': '1'}, page_content='accountability, aiming to build AI systems that respect privacy and promote social justice. \\nThe integration of AI with emerging hardware technologies, such as quantum computing,'),\n",
       " Document(metadata={'producer': 'Microsoft® Word for Microsoft 365', 'creator': 'Microsoft® Word for Microsoft 365', 'creationdate': '2025-06-09T02:39:52+02:00', 'author': 'Raza Mehar', 'moddate': '2025-06-09T02:39:52+02:00', 'source': 'data\\\\ai.pdf', 'total_pages': 1, 'page': 0, 'page_label': '1'}, page_content='promises to exponentially increase processing power. Quantum algorithms could solve \\ncomplex optimization problems and simulate molecular interactions far beyond the reach'),\n",
       " Document(metadata={'producer': 'Microsoft® Word for Microsoft 365', 'creator': 'Microsoft® Word for Microsoft 365', 'creationdate': '2025-06-09T02:39:52+02:00', 'author': 'Raza Mehar', 'moddate': '2025-06-09T02:39:52+02:00', 'source': 'data\\\\ai.pdf', 'total_pages': 1, 'page': 0, 'page_label': '1'}, page_content='of classical computers. This synergy is expected to accelerate breakthroughs in drug \\ndiscovery, cryptography, and climate modeling, opening new frontiers for scientific \\ninnovation.')]"
      ]
     },
     "execution_count": 99,
     "metadata": {},
     "output_type": "execute_result"
    }
   ],
   "source": [
    "new_docs=text_splitter.split_documents(documents=docs)\n",
    "new_docs"
   ]
  },
  {
   "cell_type": "code",
   "execution_count": 100,
   "id": "5ffe2c14",
   "metadata": {},
   "outputs": [
    {
     "data": {
      "text/plain": [
       "['Artificial Intelligence has revolutionized healthcare by enabling faster and more accurate \\ndiagnosis of diseases. Machine learning models analyze medical images like X-rays and',\n",
       " 'MRIs to detect anomalies that may be missed by the human eye. AI-driven tools also help \\npersonalize treatment plans by predicting patient responses to different therapies,',\n",
       " 'improving outcomes and reducing costs in hospitals worldwide. \\nIn the field of natural language processing, AI has made significant strides in understanding',\n",
       " 'and generating human language. Technologies like GPT models can compose coherent \\ntext, translate languages instantly, and even engage in meaningful conversations. This',\n",
       " 'progress has enhanced virtual assistants, automated customer support, and content \\ncreation, making communication more accessible across languages and cultures.',\n",
       " 'Ethical considerations in AI development are becoming increasingly important as these \\ntechnologies impact society. Issues such as algorithmic bias can perpetuate unfair',\n",
       " 'treatment based on race, gender, or socioeconomic status if not addressed properly. \\nResearchers are working on creating frameworks to ensure transparency and',\n",
       " 'accountability, aiming to build AI systems that respect privacy and promote social justice. \\nThe integration of AI with emerging hardware technologies, such as quantum computing,',\n",
       " 'promises to exponentially increase processing power. Quantum algorithms could solve \\ncomplex optimization problems and simulate molecular interactions far beyond the reach',\n",
       " 'of classical computers. This synergy is expected to accelerate breakthroughs in drug \\ndiscovery, cryptography, and climate modeling, opening new frontiers for scientific \\ninnovation.']"
      ]
     },
     "execution_count": 100,
     "metadata": {},
     "output_type": "execute_result"
    }
   ],
   "source": [
    "doc_string=[doc.page_content for doc in new_docs]\n",
    "doc_string"
   ]
  },
  {
   "cell_type": "code",
   "execution_count": 101,
   "id": "390959c1",
   "metadata": {},
   "outputs": [
    {
     "data": {
      "text/plain": [
       "10"
      ]
     },
     "execution_count": 101,
     "metadata": {},
     "output_type": "execute_result"
    }
   ],
   "source": [
    "len(doc_string)"
   ]
  },
  {
   "cell_type": "code",
   "execution_count": 102,
   "id": "b41cbd5b",
   "metadata": {},
   "outputs": [],
   "source": [
    "db=Chroma.from_documents(new_docs,embeddings)\n",
    "retriever=db.as_retriever(search_kwargs={\"k\": 3})"
   ]
  },
  {
   "cell_type": "code",
   "execution_count": 103,
   "id": "e9b6a938",
   "metadata": {},
   "outputs": [],
   "source": [
    "class TopicSelectionParser(BaseModel):\n",
    "    Topic:str=Field(description=\"selected topic\")\n",
    "    Reasoning:str=Field(description='Reasoning behind topic selection')"
   ]
  },
  {
   "cell_type": "code",
   "execution_count": 104,
   "id": "35164094",
   "metadata": {},
   "outputs": [
    {
     "data": {
      "text/plain": [
       "'The output should be formatted as a JSON instance that conforms to the JSON schema below.\\n\\nAs an example, for the schema {\"properties\": {\"foo\": {\"title\": \"Foo\", \"description\": \"a list of strings\", \"type\": \"array\", \"items\": {\"type\": \"string\"}}}, \"required\": [\"foo\"]}\\nthe object {\"foo\": [\"bar\", \"baz\"]} is a well-formatted instance of the schema. The object {\"properties\": {\"foo\": [\"bar\", \"baz\"]}} is not well-formatted.\\n\\nHere is the output schema:\\n```\\n{\"properties\": {\"Topic\": {\"description\": \"selected topic\", \"title\": \"Topic\", \"type\": \"string\"}, \"Reasoning\": {\"description\": \"Reasoning behind topic selection\", \"title\": \"Reasoning\", \"type\": \"string\"}}, \"required\": [\"Topic\", \"Reasoning\"]}\\n```'"
      ]
     },
     "execution_count": 104,
     "metadata": {},
     "output_type": "execute_result"
    }
   ],
   "source": [
    "parser=PydanticOutputParser(pydantic_object=TopicSelectionParser)\n",
    "parser.get_format_instructions()"
   ]
  },
  {
   "cell_type": "code",
   "execution_count": 105,
   "id": "334bf14d",
   "metadata": {},
   "outputs": [],
   "source": [
    "def format_docs(docs):\n",
    "    return \"\\n\\n\".join(doc.page_content for doc in docs)"
   ]
  },
  {
   "cell_type": "code",
   "execution_count": 106,
   "id": "e0c9a934",
   "metadata": {},
   "outputs": [],
   "source": [
    "class AgentState(TypedDict):\n",
    "    messages: Annotated[Sequence[BaseMessage], operator.add]"
   ]
  },
  {
   "cell_type": "code",
   "execution_count": 167,
   "id": "3838fc5a",
   "metadata": {},
   "outputs": [],
   "source": [
    "def supervisor_node(state: AgentState):\n",
    "    print(\"Calling Supervisor node...\")\n",
    "    question = state[\"messages\"][-1]\n",
    "\n",
    "    template = \"\"\"\n",
    "    Classify the user's query into one of the following categories: [RAG, Web, Not Related].\n",
    "\n",
    "    - If the query is about AI or Artificial Intelligence, or relates to tasks handled by a retrieval-augmented generation (RAG) system such as answering questions using internal knowledge, classify it as **RAG**.\n",
    "    - If the query includes phrases like \"find the latest\", \"search for\", \"look up\", or anything requiring real-time internet access, classify it as **Web**.\n",
    "    - Otherwise, classify it as **Not Related**.\n",
    "\n",
    "    Only respond with one of these category names: RAG, Web, or Not Related.\n",
    "\n",
    "    User query: {question}\n",
    "    {format_instructions}\n",
    "    \"\"\"\n",
    "\n",
    "    prompt = PromptTemplate(\n",
    "        template=template,\n",
    "        input_variables=[\"question\"],\n",
    "        partial_variables={\"format_instructions\": parser.get_format_instructions()}\n",
    "    )\n",
    "\n",
    "    chain = prompt | model | parser\n",
    "    response = chain.invoke({\"question\": question})\n",
    "\n",
    "    return {\"messages\": [response.Topic]}"
   ]
  },
  {
   "cell_type": "code",
   "execution_count": 168,
   "id": "69fff322",
   "metadata": {},
   "outputs": [],
   "source": [
    "def rag_node(state: AgentState):\n",
    "    print(\"Calling RAG node...\")\n",
    "    question = state[\"messages\"][0]\n",
    "\n",
    "    prompt = PromptTemplate(\n",
    "        template=\"\"\"You are an assistant for question-answering tasks. Use the following pieces of retrieved context to answer the question. If you don't know the answer, just say that you don't know. Use three sentences maximum and keep the answer concise.\\nQuestion: {question} \\nContext: {context} \\nAnswer:\"\"\",\n",
    "        input_variables=['context', 'question']\n",
    "    )\n",
    "\n",
    "    rag_chain = (\n",
    "        {\"context\": retriever | format_docs, \"question\": RunnablePassthrough()}\n",
    "        | prompt\n",
    "        | model\n",
    "        | StrOutputParser()\n",
    "    )\n",
    "\n",
    "    result = rag_chain.invoke(question)\n",
    "    return {\"messages\": [result]}"
   ]
  },
  {
   "cell_type": "code",
   "execution_count": 313,
   "id": "46f4527f",
   "metadata": {},
   "outputs": [],
   "source": [
    "def web_crawl_node(state: AgentState):\n",
    "    print(\"Calling Web Crawl Node...\")\n",
    "\n",
    "    tavily_key = os.getenv(\"TAVILY_API_KEY\") \n",
    "    if not tavily_key:\n",
    "        return {\"messages\": [\"Error: Tavily API key not found.\"]}\n",
    "\n",
    "    tool = TavilySearchResults(tavily_api_key=tavily_key)\n",
    "    question = state[\"messages\"][0]\n",
    "    results = tool.invoke({\"query\": question})\n",
    "\n",
    "    if isinstance(results, list) and results:\n",
    "        top_links = \"\\n\".join(\n",
    "            f\"- {item.get('title', 'No Title')}: {item.get('url', 'No URL')}\"\n",
    "            for item in results[:3]\n",
    "        )\n",
    "        return {\"messages\": [top_links]}\n",
    "    else:\n",
    "        return {\"messages\": [\"No relevant search results found.\"]}"
   ]
  },
  {
   "cell_type": "code",
   "execution_count": 314,
   "id": "df5369e4",
   "metadata": {},
   "outputs": [],
   "source": [
    "def llm_node(state: AgentState):\n",
    "    print(\"Calling LLM node...\")\n",
    "    question = state[\"messages\"][0]\n",
    "\n",
    "    complete_query = (\n",
    "        \"Answer the following question with your knowledge of the real world. \"\n",
    "        \"If you don't know the answer, please just say 'I don't know'.\\n\\n\"\n",
    "        \"User question: \" + question\n",
    "    )\n",
    "    response = model.invoke(complete_query)\n",
    "\n",
    "    return {\"messages\": [response.content]}"
   ]
  },
  {
   "cell_type": "code",
   "execution_count": 315,
   "id": "d565e363",
   "metadata": {},
   "outputs": [],
   "source": [
    "def router(state: AgentState):\n",
    "    print(\"Calling the Router...\")\n",
    "    last_message = state[\"messages\"][0]\n",
    "    message_lower = last_message.lower()\n",
    "\n",
    "    ai_keywords = [\n",
    "        \"ai\", \"artificial intelligence\"]\n",
    "\n",
    "    web_keywords = [\n",
    "        \"search\", \"new\", \"find\", \"latest\", \"lookup\", \"look up\", \"online\", \"on the net\", \"on the internet\"]\n",
    "\n",
    "    if any(keyword in message_lower for keyword in ai_keywords):\n",
    "        return \"RAG\"\n",
    "    elif any(keyword in message_lower for keyword in web_keywords):\n",
    "        return \"Web\"\n",
    "    else:\n",
    "        return \"LLM\""
   ]
  },
  {
   "cell_type": "code",
   "execution_count": 393,
   "id": "55337356",
   "metadata": {},
   "outputs": [],
   "source": [
    "def validator_node(state: AgentState):\n",
    "    print(\"Calling Validator node...\")\n",
    "    last_message = state[\"messages\"][-1]\n",
    "\n",
    "    normalized_msg = last_message.strip().lower().translate(str.maketrans('', '', string.punctuation))\n",
    "\n",
    "    failure_responses = {\n",
    "        \"i dont know\",\n",
    "        \"sorry i dont know\"\n",
    "    }\n",
    "\n",
    "    if normalized_msg in failure_responses:\n",
    "        print(\"Validation failed.\")\n",
    "        return {\"messages\": [normalized_msg]}\n",
    "    else:\n",
    "        print(\"Validation passed.\")\n",
    "        return {\"messages\": [last_message]}"
   ]
  },
  {
   "cell_type": "code",
   "execution_count": 412,
   "id": "cfdc09ef",
   "metadata": {},
   "outputs": [],
   "source": [
    "def re_router(state: AgentState):\n",
    "    global COUNTER\n",
    "    if COUNTER > 2:\n",
    "        print(f\"Maximum limit of {COUNTER} exhausted\")\n",
    "        COUNTER = 0\n",
    "        original_question = state[\"messages\"][0]\n",
    "        state[\"messages\"][-1] = original_question\n",
    "        return \"Final\"\n",
    "\n",
    "    COUNTER += 1\n",
    "\n",
    "    print(\"Calling the Re-router...\")\n",
    "    last_message = state[\"messages\"][-1]\n",
    "    message_lower = last_message.strip().lower()\n",
    "\n",
    "    failure_responses = {\n",
    "        \"i dont know\",\n",
    "        \"sorry i dont know\"\n",
    "    }\n",
    "\n",
    "    if message_lower in failure_responses:\n",
    "        print(f\"Attempt {COUNTER}. Re-routing to Supervisor...\")\n",
    "        original_question = state[\"messages\"][0]\n",
    "        state[\"messages\"][-1] = original_question\n",
    "        return \"Supervisor\"\n",
    "    else:\n",
    "        print(\"Re-routing to Final...\")\n",
    "        COUNTER = 0\n",
    "        return \"Final\"\n"
   ]
  },
  {
   "cell_type": "code",
   "execution_count": 413,
   "id": "b6348dcd",
   "metadata": {},
   "outputs": [],
   "source": [
    "def final_node(state: AgentState):\n",
    "    return {\"messages\": [state['messages'][-1]]}"
   ]
  },
  {
   "cell_type": "code",
   "execution_count": 414,
   "id": "2af42e55",
   "metadata": {},
   "outputs": [],
   "source": [
    "workflow = StateGraph(AgentState)\n",
    "\n",
    "workflow.add_node(\"Supervisor\", supervisor_node)\n",
    "workflow.add_node(\"RAG\", rag_node)\n",
    "workflow.add_node(\"Web\", web_crawl_node)\n",
    "workflow.add_node(\"LLM\", llm_node)\n",
    "workflow.add_node(\"Validator\", validator_node)\n",
    "workflow.add_node(\"Final\", final_node)\n",
    "\n",
    "workflow.set_entry_point(\"Supervisor\")\n",
    "\n",
    "workflow.add_conditional_edges(\n",
    "    \"Supervisor\",\n",
    "    router,\n",
    "    {\n",
    "        \"RAG\": \"RAG\",\n",
    "        \"Web\": \"Web\",\n",
    "        \"LLM\": \"LLM\",\n",
    "    }\n",
    ")\n",
    "\n",
    "workflow.add_edge(\"RAG\", \"Validator\")\n",
    "workflow.add_edge(\"Web\", \"Validator\")\n",
    "workflow.add_edge(\"LLM\", \"Validator\")\n",
    "\n",
    "workflow.add_conditional_edges(\n",
    "    \"Validator\", \n",
    "    re_router, \n",
    "    {\n",
    "        \"Supervisor\": \"Supervisor\", \n",
    "        \"Final\": \"Final\"\n",
    "    }\n",
    ")\n",
    "\n",
    "workflow.add_edge(\"Final\", END)\n",
    "\n",
    "app=workflow.compile()"
   ]
  },
  {
   "cell_type": "code",
   "execution_count": 415,
   "id": "895cb808",
   "metadata": {},
   "outputs": [
    {
     "data": {
      "image/png": "[encoded data removed]",
      "text/plain": [
       "<IPython.core.display.Image object>"
      ]
     },
     "metadata": {},
     "output_type": "display_data"
    }
   ],
   "source": [
    "display(Image(app.get_graph().draw_mermaid_png()))"
   ]
  },
  {
   "cell_type": "code",
   "execution_count": 421,
   "id": "06ffe88e",
   "metadata": {},
   "outputs": [
    {
     "name": "stdout",
     "output_type": "stream",
     "text": [
      "Calling Supervisor node...\n",
      "Calling the Router...\n",
      "Calling RAG node...\n",
      "Calling Validator node...\n",
      "Validation passed.\n",
      "Calling the Re-router...\n",
      "Re-routing to Final...\n"
     ]
    },
    {
     "data": {
      "text/plain": [
       "'AI has significantly improved the speed and accuracy of diagnosing diseases in the healthcare industry by using machine learning models to analyze medical images like X-rays. The integration of AI into emerging hardware technologies, such as quantum computing, is aiming to build AI systems that respect privacy and promote social justice.'"
      ]
     },
     "execution_count": 421,
     "metadata": {},
     "output_type": "execute_result"
    }
   ],
   "source": [
    "state={\"messages\":[\"AI\"]}\n",
    "result = app.invoke(state)\n",
    "result[\"messages\"][-1]"
   ]
  }
 ],
 "metadata": {
  "kernelspec": {
   "display_name": "venv",
   "language": "python",
   "name": "python3"
  },
  "language_info": {
   "codemirror_mode": {
    "name": "ipython",
    "version": 3
   },
   "file_extension": ".py",
   "mimetype": "text/x-python",
   "name": "python",
   "nbconvert_exporter": "python",
   "pygments_lexer": "ipython3",
   "version": "3.9.13"
  }
 },
 "nbformat": 4,
 "nbformat_minor": 5
}
